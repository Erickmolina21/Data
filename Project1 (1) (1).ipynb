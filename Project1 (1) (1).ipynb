{
 "cells": [
  {
   "cell_type": "markdown",
   "metadata": {},
   "source": [
    "https://data.cityofnewyork.us/Public-Safety/FDNY-Line-Of-Duty-Deaths/32y8-s55c"
   ]
  },
  {
   "cell_type": "markdown",
   "metadata": {},
   "source": [
    "We decided to use the open source data of FDNY firefighters death while on the line of duty the date starts from August 24, 1865 till September 10, 2018. This data set covers the names of the fallen firefighters who died protecting NYC from fire all across the boroughs. It also includes the rank of the service members as well as they’re unit and date of death. With this data set we plan to analyze this type of brave work and what the average ranking of death is among NYC firefighters. Fire fighters  -link to the data set . We used the importation of the PANDAS library to export csv files into data frames and structures. From here we see columns and rows of information. this can show how many entries we have as well as what type of information is being cataloged. In our data set we are able to see which units of firefighters have the most death and what period of time did the death of firefighter spike up and down. We can also analyze what rank of firefighters contain the most death"
   ]
  },
  {
   "cell_type": "markdown",
   "metadata": {},
   "source": [
    "This is where we imported the pandas libaray,so we can read the csv file and covert it into a data frame for easier manupliation, as well as matplotlib so we can create bargraphs and histgraphs with the data we collect "
   ]
  },
  {
   "cell_type": "code",
   "execution_count": 153,
   "metadata": {},
   "outputs": [],
   "source": [
    "import pandas as pd\n",
    "import matplotlib.pyplot as plt\n",
    "%matplotlib inline"
   ]
  },
  {
   "cell_type": "markdown",
   "metadata": {},
   "source": [
    "this is where what we do to make sure our csv file are ready to be read."
   ]
  },
  {
   "cell_type": "code",
   "execution_count": 154,
   "metadata": {},
   "outputs": [
    {
     "name": "stdout",
     "output_type": "stream",
     "text": [
      "\u001b[34mC++\u001b[m\u001b[m/\r\n",
      "\u001b[34mC++ labs\u001b[m\u001b[m/\r\n",
      "CU_R1096A.pdf\r\n",
      "\u001b[34mCall of Duty Modern Warfare 3.app\u001b[m\u001b[m/\r\n",
      "ChristieNassauTranscript.pdf\r\n",
      "\u001b[34mComputer Programmers _ Occupational Outlook Handbook_ _ U.S. Bureau of Labor Statistics_files\u001b[m\u001b[m/\r\n",
      "\u001b[34mDiscrete math projects\u001b[m\u001b[m/\r\n",
      "Epic Games Launcher\r\n",
      "Erick Molina Resume 1 (1).pdf\r\n",
      "Erick Molina.docx\r\n",
      "FDNY_Line_Of_Duty_Deaths.csv\r\n",
      "Flora Code ana.jpeg\r\n",
      "\u001b[34mGoogle Chrome.app\u001b[m\u001b[m/\r\n",
      "Project1.ipynb\r\n",
      "Untitled-Copy1.ipynb\r\n",
      "Untitled.ipynb\r\n",
      "boolean condition indexing (1).ipynb\r\n",
      "c++ hw#1.docx\r\n",
      "c++ hw#2.docx\r\n",
      "c++ hw#3.docx\r\n",
      "c++hw 5.docx\r\n",
      "computer science hw#6.docx\r\n",
      "em resume.PDF\r\n",
      "final resume.pdf\r\n",
      "javaforosx.dmg\r\n",
      "lab 1.docx\r\n",
      "project#1.ipynb\r\n",
      "\u001b[34mpunta cana animal \u001b[m\u001b[m/\r\n",
      "python-3.7.4-macosx10.9.pkg\r\n",
      "\u001b[34mscape park\u001b[m\u001b[m/\r\n",
      "\u001b[34msnuba\u001b[m\u001b[m/\r\n",
      "transcript.pdf\r\n",
      "~$ick Molina.docx\r\n"
     ]
    }
   ],
   "source": [
    "ls"
   ]
  },
  {
   "cell_type": "markdown",
   "metadata": {},
   "source": [
    "saving the name of the data frame as well as pulling up the data frame itself "
   ]
  },
  {
   "cell_type": "code",
   "execution_count": 155,
   "metadata": {},
   "outputs": [],
   "source": [
    "fire=pd.read_csv('FDNY_Line_Of_Duty_Deaths.csv')"
   ]
  },
  {
   "cell_type": "code",
   "execution_count": 156,
   "metadata": {},
   "outputs": [
    {
     "data": {
      "text/html": [
       "<div>\n",
       "<style scoped>\n",
       "    .dataframe tbody tr th:only-of-type {\n",
       "        vertical-align: middle;\n",
       "    }\n",
       "\n",
       "    .dataframe tbody tr th {\n",
       "        vertical-align: top;\n",
       "    }\n",
       "\n",
       "    .dataframe thead th {\n",
       "        text-align: right;\n",
       "    }\n",
       "</style>\n",
       "<table border=\"1\" class=\"dataframe\">\n",
       "  <thead>\n",
       "    <tr style=\"text-align: right;\">\n",
       "      <th></th>\n",
       "      <th>Rank</th>\n",
       "      <th>Name</th>\n",
       "      <th>Unit</th>\n",
       "      <th>Date</th>\n",
       "    </tr>\n",
       "  </thead>\n",
       "  <tbody>\n",
       "    <tr>\n",
       "      <td>0</td>\n",
       "      <td>FIREFIGHTER</td>\n",
       "      <td>ROBERT WINTRINGHAM</td>\n",
       "      <td>ENGINE 1</td>\n",
       "      <td>AUGUST 24, 1865</td>\n",
       "    </tr>\n",
       "    <tr>\n",
       "      <td>1</td>\n",
       "      <td>FIREFIGHTER</td>\n",
       "      <td>GEORGE BELL</td>\n",
       "      <td>ENGINE 8</td>\n",
       "      <td>NOVEMBER 8, 1865</td>\n",
       "    </tr>\n",
       "    <tr>\n",
       "      <td>2</td>\n",
       "      <td>FIREFIGHTER</td>\n",
       "      <td>THOMAS IRVIN</td>\n",
       "      <td>ENGINE 4</td>\n",
       "      <td>DECEMBER 2, 1865</td>\n",
       "    </tr>\n",
       "    <tr>\n",
       "      <td>3</td>\n",
       "      <td>FIREFIGHTER</td>\n",
       "      <td>DOMINICK SICOT</td>\n",
       "      <td>ENGINE 4</td>\n",
       "      <td>DECEMBER 14, 1865</td>\n",
       "    </tr>\n",
       "    <tr>\n",
       "      <td>4</td>\n",
       "      <td>FIREFIGHTER</td>\n",
       "      <td>PETER H. WALSH</td>\n",
       "      <td>ENGINE 5</td>\n",
       "      <td>MAY 21, 1866</td>\n",
       "    </tr>\n",
       "    <tr>\n",
       "      <td>...</td>\n",
       "      <td>...</td>\n",
       "      <td>...</td>\n",
       "      <td>...</td>\n",
       "      <td>...</td>\n",
       "    </tr>\n",
       "    <tr>\n",
       "      <td>1164</td>\n",
       "      <td>LIEUTENANT</td>\n",
       "      <td>JOHN H. MARTINSON</td>\n",
       "      <td>ENGINE 249</td>\n",
       "      <td>Thursday, January 3, 2008</td>\n",
       "    </tr>\n",
       "    <tr>\n",
       "      <td>1165</td>\n",
       "      <td>FIREFIGHTER</td>\n",
       "      <td>JAMEL M. SEARS</td>\n",
       "      <td>BOT</td>\n",
       "      <td>Tuesday, November 11, 2008</td>\n",
       "    </tr>\n",
       "    <tr>\n",
       "      <td>1166</td>\n",
       "      <td>LIEUTENANT</td>\n",
       "      <td>ROBERT J. RYAN, JR.</td>\n",
       "      <td>ENGINE 155</td>\n",
       "      <td>Sunday, November 23, 2008</td>\n",
       "    </tr>\n",
       "    <tr>\n",
       "      <td>1167</td>\n",
       "      <td>FIREFIGHTER</td>\n",
       "      <td>PAUL WARHOLA</td>\n",
       "      <td>ENGINE 221</td>\n",
       "      <td>Friday, August 14, 2009</td>\n",
       "    </tr>\n",
       "    <tr>\n",
       "      <td>1168</td>\n",
       "      <td>LIEUTENANT</td>\n",
       "      <td>RICHARD A. NAPPI</td>\n",
       "      <td>ENGINE 237</td>\n",
       "      <td>Monday, April 16, 2012</td>\n",
       "    </tr>\n",
       "  </tbody>\n",
       "</table>\n",
       "<p>1169 rows × 4 columns</p>\n",
       "</div>"
      ],
      "text/plain": [
       "             Rank                 Name        Unit                        Date\n",
       "0     FIREFIGHTER   ROBERT WINTRINGHAM    ENGINE 1             AUGUST 24, 1865\n",
       "1     FIREFIGHTER          GEORGE BELL    ENGINE 8            NOVEMBER 8, 1865\n",
       "2     FIREFIGHTER         THOMAS IRVIN    ENGINE 4            DECEMBER 2, 1865\n",
       "3     FIREFIGHTER       DOMINICK SICOT    ENGINE 4           DECEMBER 14, 1865\n",
       "4     FIREFIGHTER       PETER H. WALSH    ENGINE 5                MAY 21, 1866\n",
       "...           ...                  ...         ...                         ...\n",
       "1164   LIEUTENANT    JOHN H. MARTINSON  ENGINE 249   Thursday, January 3, 2008\n",
       "1165  FIREFIGHTER       JAMEL M. SEARS         BOT  Tuesday, November 11, 2008\n",
       "1166   LIEUTENANT  ROBERT J. RYAN, JR.  ENGINE 155   Sunday, November 23, 2008\n",
       "1167  FIREFIGHTER         PAUL WARHOLA  ENGINE 221     Friday, August 14, 2009\n",
       "1168   LIEUTENANT     RICHARD A. NAPPI  ENGINE 237      Monday, April 16, 2012\n",
       "\n",
       "[1169 rows x 4 columns]"
      ]
     },
     "execution_count": 156,
     "metadata": {},
     "output_type": "execute_result"
    }
   ],
   "source": [
    "fire"
   ]
  },
  {
   "cell_type": "markdown",
   "metadata": {},
   "source": [
    "this is the function we created to string splice the last 4 digits of the data aka the 'years'"
   ]
  },
  {
   "cell_type": "code",
   "execution_count": 157,
   "metadata": {},
   "outputs": [],
   "source": [
    "def last_four(s):\n",
    "    return s[-4:]"
   ]
  },
  {
   "cell_type": "markdown",
   "metadata": {},
   "source": [
    "us applying the function to the column 'data' to do some clean up the data "
   ]
  },
  {
   "cell_type": "code",
   "execution_count": 158,
   "metadata": {},
   "outputs": [],
   "source": [
    "fire['year']=fire['Date'].apply(last_four)"
   ]
  },
  {
   "cell_type": "code",
   "execution_count": 159,
   "metadata": {},
   "outputs": [
    {
     "data": {
      "text/html": [
       "<div>\n",
       "<style scoped>\n",
       "    .dataframe tbody tr th:only-of-type {\n",
       "        vertical-align: middle;\n",
       "    }\n",
       "\n",
       "    .dataframe tbody tr th {\n",
       "        vertical-align: top;\n",
       "    }\n",
       "\n",
       "    .dataframe thead th {\n",
       "        text-align: right;\n",
       "    }\n",
       "</style>\n",
       "<table border=\"1\" class=\"dataframe\">\n",
       "  <thead>\n",
       "    <tr style=\"text-align: right;\">\n",
       "      <th></th>\n",
       "      <th>Rank</th>\n",
       "      <th>Name</th>\n",
       "      <th>Unit</th>\n",
       "      <th>Date</th>\n",
       "      <th>year</th>\n",
       "    </tr>\n",
       "  </thead>\n",
       "  <tbody>\n",
       "    <tr>\n",
       "      <td>0</td>\n",
       "      <td>FIREFIGHTER</td>\n",
       "      <td>ROBERT WINTRINGHAM</td>\n",
       "      <td>ENGINE 1</td>\n",
       "      <td>AUGUST 24, 1865</td>\n",
       "      <td>1865</td>\n",
       "    </tr>\n",
       "    <tr>\n",
       "      <td>1</td>\n",
       "      <td>FIREFIGHTER</td>\n",
       "      <td>GEORGE BELL</td>\n",
       "      <td>ENGINE 8</td>\n",
       "      <td>NOVEMBER 8, 1865</td>\n",
       "      <td>1865</td>\n",
       "    </tr>\n",
       "    <tr>\n",
       "      <td>2</td>\n",
       "      <td>FIREFIGHTER</td>\n",
       "      <td>THOMAS IRVIN</td>\n",
       "      <td>ENGINE 4</td>\n",
       "      <td>DECEMBER 2, 1865</td>\n",
       "      <td>1865</td>\n",
       "    </tr>\n",
       "    <tr>\n",
       "      <td>3</td>\n",
       "      <td>FIREFIGHTER</td>\n",
       "      <td>DOMINICK SICOT</td>\n",
       "      <td>ENGINE 4</td>\n",
       "      <td>DECEMBER 14, 1865</td>\n",
       "      <td>1865</td>\n",
       "    </tr>\n",
       "    <tr>\n",
       "      <td>4</td>\n",
       "      <td>FIREFIGHTER</td>\n",
       "      <td>PETER H. WALSH</td>\n",
       "      <td>ENGINE 5</td>\n",
       "      <td>MAY 21, 1866</td>\n",
       "      <td>1866</td>\n",
       "    </tr>\n",
       "  </tbody>\n",
       "</table>\n",
       "</div>"
      ],
      "text/plain": [
       "          Rank                Name      Unit               Date  year\n",
       "0  FIREFIGHTER  ROBERT WINTRINGHAM  ENGINE 1    AUGUST 24, 1865  1865\n",
       "1  FIREFIGHTER         GEORGE BELL  ENGINE 8   NOVEMBER 8, 1865  1865\n",
       "2  FIREFIGHTER        THOMAS IRVIN  ENGINE 4   DECEMBER 2, 1865  1865\n",
       "3  FIREFIGHTER      DOMINICK SICOT  ENGINE 4  DECEMBER 14, 1865  1865\n",
       "4  FIREFIGHTER      PETER H. WALSH  ENGINE 5       MAY 21, 1866  1866"
      ]
     },
     "execution_count": 159,
     "metadata": {},
     "output_type": "execute_result"
    }
   ],
   "source": [
    "fire.head()"
   ]
  },
  {
   "cell_type": "code",
   "execution_count": 160,
   "metadata": {},
   "outputs": [
    {
     "data": {
      "text/html": [
       "<div>\n",
       "<style scoped>\n",
       "    .dataframe tbody tr th:only-of-type {\n",
       "        vertical-align: middle;\n",
       "    }\n",
       "\n",
       "    .dataframe tbody tr th {\n",
       "        vertical-align: top;\n",
       "    }\n",
       "\n",
       "    .dataframe thead th {\n",
       "        text-align: right;\n",
       "    }\n",
       "</style>\n",
       "<table border=\"1\" class=\"dataframe\">\n",
       "  <thead>\n",
       "    <tr style=\"text-align: right;\">\n",
       "      <th></th>\n",
       "      <th>Rank</th>\n",
       "      <th>Name</th>\n",
       "      <th>Unit</th>\n",
       "      <th>Date</th>\n",
       "      <th>year</th>\n",
       "    </tr>\n",
       "  </thead>\n",
       "  <tbody>\n",
       "    <tr>\n",
       "      <td>1164</td>\n",
       "      <td>LIEUTENANT</td>\n",
       "      <td>JOHN H. MARTINSON</td>\n",
       "      <td>ENGINE 249</td>\n",
       "      <td>Thursday, January 3, 2008</td>\n",
       "      <td>2008</td>\n",
       "    </tr>\n",
       "    <tr>\n",
       "      <td>1165</td>\n",
       "      <td>FIREFIGHTER</td>\n",
       "      <td>JAMEL M. SEARS</td>\n",
       "      <td>BOT</td>\n",
       "      <td>Tuesday, November 11, 2008</td>\n",
       "      <td>2008</td>\n",
       "    </tr>\n",
       "    <tr>\n",
       "      <td>1166</td>\n",
       "      <td>LIEUTENANT</td>\n",
       "      <td>ROBERT J. RYAN, JR.</td>\n",
       "      <td>ENGINE 155</td>\n",
       "      <td>Sunday, November 23, 2008</td>\n",
       "      <td>2008</td>\n",
       "    </tr>\n",
       "    <tr>\n",
       "      <td>1167</td>\n",
       "      <td>FIREFIGHTER</td>\n",
       "      <td>PAUL WARHOLA</td>\n",
       "      <td>ENGINE 221</td>\n",
       "      <td>Friday, August 14, 2009</td>\n",
       "      <td>2009</td>\n",
       "    </tr>\n",
       "    <tr>\n",
       "      <td>1168</td>\n",
       "      <td>LIEUTENANT</td>\n",
       "      <td>RICHARD A. NAPPI</td>\n",
       "      <td>ENGINE 237</td>\n",
       "      <td>Monday, April 16, 2012</td>\n",
       "      <td>2012</td>\n",
       "    </tr>\n",
       "  </tbody>\n",
       "</table>\n",
       "</div>"
      ],
      "text/plain": [
       "             Rank                 Name        Unit  \\\n",
       "1164   LIEUTENANT    JOHN H. MARTINSON  ENGINE 249   \n",
       "1165  FIREFIGHTER       JAMEL M. SEARS         BOT   \n",
       "1166   LIEUTENANT  ROBERT J. RYAN, JR.  ENGINE 155   \n",
       "1167  FIREFIGHTER         PAUL WARHOLA  ENGINE 221   \n",
       "1168   LIEUTENANT     RICHARD A. NAPPI  ENGINE 237   \n",
       "\n",
       "                            Date  year  \n",
       "1164   Thursday, January 3, 2008  2008  \n",
       "1165  Tuesday, November 11, 2008  2008  \n",
       "1166   Sunday, November 23, 2008  2008  \n",
       "1167     Friday, August 14, 2009  2009  \n",
       "1168      Monday, April 16, 2012  2012  "
      ]
     },
     "execution_count": 160,
     "metadata": {},
     "output_type": "execute_result"
    }
   ],
   "source": [
    "fire.tail()"
   ]
  },
  {
   "cell_type": "markdown",
   "metadata": {},
   "source": [
    "look the all the column entires and what type of info pandas is reading it in"
   ]
  },
  {
   "cell_type": "code",
   "execution_count": 161,
   "metadata": {},
   "outputs": [
    {
     "name": "stdout",
     "output_type": "stream",
     "text": [
      "<class 'pandas.core.frame.DataFrame'>\n",
      "RangeIndex: 1169 entries, 0 to 1168\n",
      "Data columns (total 5 columns):\n",
      "Rank    1169 non-null object\n",
      "Name    1169 non-null object\n",
      "Unit    1169 non-null object\n",
      "Date    1169 non-null object\n",
      "year    1169 non-null object\n",
      "dtypes: object(5)\n",
      "memory usage: 45.8+ KB\n"
     ]
    }
   ],
   "source": [
    "fire.info()"
   ]
  },
  {
   "cell_type": "code",
   "execution_count": 162,
   "metadata": {},
   "outputs": [
    {
     "data": {
      "text/plain": [
       "RangeIndex(start=0, stop=1169, step=1)"
      ]
     },
     "execution_count": 162,
     "metadata": {},
     "output_type": "execute_result"
    }
   ],
   "source": [
    "fire.index"
   ]
  },
  {
   "cell_type": "markdown",
   "metadata": {},
   "source": [
    "this is us converting the new column 'year' we made into numeric"
   ]
  },
  {
   "cell_type": "code",
   "execution_count": 163,
   "metadata": {},
   "outputs": [],
   "source": [
    "fire['year']=pd.to_numeric(fire['year'])"
   ]
  },
  {
   "cell_type": "markdown",
   "metadata": {},
   "source": [
    "more clean up this is us using a function to string split the column data to get rid of the redundent years"
   ]
  },
  {
   "cell_type": "code",
   "execution_count": 164,
   "metadata": {},
   "outputs": [],
   "source": [
    "def first(s):\n",
    "    return s.split(sep=',')[0]"
   ]
  },
  {
   "cell_type": "markdown",
   "metadata": {},
   "source": [
    "applying that said function "
   ]
  },
  {
   "cell_type": "code",
   "execution_count": 165,
   "metadata": {},
   "outputs": [],
   "source": [
    "fire['Date'] = fire['Date'].apply(first)"
   ]
  },
  {
   "cell_type": "code",
   "execution_count": 166,
   "metadata": {},
   "outputs": [
    {
     "name": "stdout",
     "output_type": "stream",
     "text": [
      "<class 'pandas.core.frame.DataFrame'>\n",
      "RangeIndex: 1169 entries, 0 to 1168\n",
      "Data columns (total 5 columns):\n",
      "Rank    1169 non-null object\n",
      "Name    1169 non-null object\n",
      "Unit    1169 non-null object\n",
      "Date    1169 non-null object\n",
      "year    1169 non-null int64\n",
      "dtypes: int64(1), object(4)\n",
      "memory usage: 45.8+ KB\n"
     ]
    }
   ],
   "source": [
    "fire.info()"
   ]
  },
  {
   "cell_type": "markdown",
   "metadata": {},
   "source": [
    "the final state of the data frame were gonna use "
   ]
  },
  {
   "cell_type": "code",
   "execution_count": 167,
   "metadata": {},
   "outputs": [
    {
     "data": {
      "text/html": [
       "<div>\n",
       "<style scoped>\n",
       "    .dataframe tbody tr th:only-of-type {\n",
       "        vertical-align: middle;\n",
       "    }\n",
       "\n",
       "    .dataframe tbody tr th {\n",
       "        vertical-align: top;\n",
       "    }\n",
       "\n",
       "    .dataframe thead th {\n",
       "        text-align: right;\n",
       "    }\n",
       "</style>\n",
       "<table border=\"1\" class=\"dataframe\">\n",
       "  <thead>\n",
       "    <tr style=\"text-align: right;\">\n",
       "      <th></th>\n",
       "      <th>Rank</th>\n",
       "      <th>Name</th>\n",
       "      <th>Unit</th>\n",
       "      <th>Date</th>\n",
       "      <th>year</th>\n",
       "    </tr>\n",
       "  </thead>\n",
       "  <tbody>\n",
       "    <tr>\n",
       "      <td>0</td>\n",
       "      <td>FIREFIGHTER</td>\n",
       "      <td>ROBERT WINTRINGHAM</td>\n",
       "      <td>ENGINE 1</td>\n",
       "      <td>AUGUST 24</td>\n",
       "      <td>1865</td>\n",
       "    </tr>\n",
       "    <tr>\n",
       "      <td>1</td>\n",
       "      <td>FIREFIGHTER</td>\n",
       "      <td>GEORGE BELL</td>\n",
       "      <td>ENGINE 8</td>\n",
       "      <td>NOVEMBER 8</td>\n",
       "      <td>1865</td>\n",
       "    </tr>\n",
       "    <tr>\n",
       "      <td>2</td>\n",
       "      <td>FIREFIGHTER</td>\n",
       "      <td>THOMAS IRVIN</td>\n",
       "      <td>ENGINE 4</td>\n",
       "      <td>DECEMBER 2</td>\n",
       "      <td>1865</td>\n",
       "    </tr>\n",
       "    <tr>\n",
       "      <td>3</td>\n",
       "      <td>FIREFIGHTER</td>\n",
       "      <td>DOMINICK SICOT</td>\n",
       "      <td>ENGINE 4</td>\n",
       "      <td>DECEMBER 14</td>\n",
       "      <td>1865</td>\n",
       "    </tr>\n",
       "    <tr>\n",
       "      <td>4</td>\n",
       "      <td>FIREFIGHTER</td>\n",
       "      <td>PETER H. WALSH</td>\n",
       "      <td>ENGINE 5</td>\n",
       "      <td>MAY 21</td>\n",
       "      <td>1866</td>\n",
       "    </tr>\n",
       "    <tr>\n",
       "      <td>...</td>\n",
       "      <td>...</td>\n",
       "      <td>...</td>\n",
       "      <td>...</td>\n",
       "      <td>...</td>\n",
       "      <td>...</td>\n",
       "    </tr>\n",
       "    <tr>\n",
       "      <td>1164</td>\n",
       "      <td>LIEUTENANT</td>\n",
       "      <td>JOHN H. MARTINSON</td>\n",
       "      <td>ENGINE 249</td>\n",
       "      <td>Thursday</td>\n",
       "      <td>2008</td>\n",
       "    </tr>\n",
       "    <tr>\n",
       "      <td>1165</td>\n",
       "      <td>FIREFIGHTER</td>\n",
       "      <td>JAMEL M. SEARS</td>\n",
       "      <td>BOT</td>\n",
       "      <td>Tuesday</td>\n",
       "      <td>2008</td>\n",
       "    </tr>\n",
       "    <tr>\n",
       "      <td>1166</td>\n",
       "      <td>LIEUTENANT</td>\n",
       "      <td>ROBERT J. RYAN, JR.</td>\n",
       "      <td>ENGINE 155</td>\n",
       "      <td>Sunday</td>\n",
       "      <td>2008</td>\n",
       "    </tr>\n",
       "    <tr>\n",
       "      <td>1167</td>\n",
       "      <td>FIREFIGHTER</td>\n",
       "      <td>PAUL WARHOLA</td>\n",
       "      <td>ENGINE 221</td>\n",
       "      <td>Friday</td>\n",
       "      <td>2009</td>\n",
       "    </tr>\n",
       "    <tr>\n",
       "      <td>1168</td>\n",
       "      <td>LIEUTENANT</td>\n",
       "      <td>RICHARD A. NAPPI</td>\n",
       "      <td>ENGINE 237</td>\n",
       "      <td>Monday</td>\n",
       "      <td>2012</td>\n",
       "    </tr>\n",
       "  </tbody>\n",
       "</table>\n",
       "<p>1169 rows × 5 columns</p>\n",
       "</div>"
      ],
      "text/plain": [
       "             Rank                 Name        Unit         Date  year\n",
       "0     FIREFIGHTER   ROBERT WINTRINGHAM    ENGINE 1    AUGUST 24  1865\n",
       "1     FIREFIGHTER          GEORGE BELL    ENGINE 8   NOVEMBER 8  1865\n",
       "2     FIREFIGHTER         THOMAS IRVIN    ENGINE 4   DECEMBER 2  1865\n",
       "3     FIREFIGHTER       DOMINICK SICOT    ENGINE 4  DECEMBER 14  1865\n",
       "4     FIREFIGHTER       PETER H. WALSH    ENGINE 5       MAY 21  1866\n",
       "...           ...                  ...         ...          ...   ...\n",
       "1164   LIEUTENANT    JOHN H. MARTINSON  ENGINE 249     Thursday  2008\n",
       "1165  FIREFIGHTER       JAMEL M. SEARS         BOT      Tuesday  2008\n",
       "1166   LIEUTENANT  ROBERT J. RYAN, JR.  ENGINE 155       Sunday  2008\n",
       "1167  FIREFIGHTER         PAUL WARHOLA  ENGINE 221       Friday  2009\n",
       "1168   LIEUTENANT     RICHARD A. NAPPI  ENGINE 237       Monday  2012\n",
       "\n",
       "[1169 rows x 5 columns]"
      ]
     },
     "execution_count": 167,
     "metadata": {},
     "output_type": "execute_result"
    }
   ],
   "source": [
    "fire"
   ]
  },
  {
   "cell_type": "markdown",
   "metadata": {},
   "source": [
    "creating a line graph of the deaths of firefighter with X as years and Y and the number of deaths"
   ]
  },
  {
   "cell_type": "code",
   "execution_count": 168,
   "metadata": {},
   "outputs": [
    {
     "data": {
      "text/plain": [
       "<matplotlib.axes._subplots.AxesSubplot at 0x11a7ea890>"
      ]
     },
     "execution_count": 168,
     "metadata": {},
     "output_type": "execute_result"
    },
    {
     "data": {
      "image/png": "[encoded data removed]",
      "text/plain": [
       "<Figure size 432x288 with 1 Axes>"
      ]
     },
     "metadata": {
      "needs_background": "light"
     },
     "output_type": "display_data"
    }
   ],
   "source": [
    "fire['year'].value_counts().sort_index().plot()"
   ]
  },
  {
   "cell_type": "markdown",
   "metadata": {},
   "source": [
    "this is the before graph but without the outlier of 9/11/2011 "
   ]
  },
  {
   "cell_type": "code",
   "execution_count": 169,
   "metadata": {},
   "outputs": [
    {
     "data": {
      "text/plain": [
       "(1880, 1980)"
      ]
     },
     "execution_count": 169,
     "metadata": {},
     "output_type": "execute_result"
    },
    {
     "data": {
      "image/png": "[encoded data removed]",
      "text/plain": [
       "<Figure size 432x288 with 1 Axes>"
      ]
     },
     "metadata": {
      "needs_background": "light"
     },
     "output_type": "display_data"
    }
   ],
   "source": [
    "fire['year'].value_counts().sort_index().plot()\n",
    "plt.xlim([1880,1980])"
   ]
  },
  {
   "cell_type": "markdown",
   "metadata": {},
   "source": [
    "this is the sorting the data from the column rank "
   ]
  },
  {
   "cell_type": "markdown",
   "metadata": {},
   "source": [
    "this high spikes in the years are correlating with great fires in nyc "
   ]
  },
  {
   "cell_type": "code",
   "execution_count": 170,
   "metadata": {},
   "outputs": [],
   "source": [
    "top_unit=fire['Unit'].value_counts()"
   ]
  },
  {
   "cell_type": "code",
   "execution_count": 171,
   "metadata": {},
   "outputs": [
    {
     "data": {
      "text/plain": [
       "(0, 20)"
      ]
     },
     "execution_count": 171,
     "metadata": {},
     "output_type": "execute_result"
    },
    {
     "data": {
      "image/png": "[encoded data removed]",
      "text/plain": [
       "<Figure size 432x288 with 1 Axes>"
      ]
     },
     "metadata": {
      "needs_background": "light"
     },
     "output_type": "display_data"
    }
   ],
   "source": [
    "top_unit.plot.box()\n",
    "plt.ylim([0,20])"
   ]
  },
  {
   "cell_type": "markdown",
   "metadata": {},
   "source": [
    "what is the mean of deaths of all units of firefighters"
   ]
  },
  {
   "cell_type": "code",
   "execution_count": 172,
   "metadata": {},
   "outputs": [
    {
     "data": {
      "text/plain": [
       "2.9594936708860757"
      ]
     },
     "execution_count": 172,
     "metadata": {},
     "output_type": "execute_result"
    }
   ],
   "source": [
    "top_unit.mean()"
   ]
  },
  {
   "cell_type": "markdown",
   "metadata": {},
   "source": [
    "ploting a bar graph of the most deaths from least "
   ]
  },
  {
   "cell_type": "code",
   "execution_count": 173,
   "metadata": {},
   "outputs": [
    {
     "data": {
      "text/plain": [
       "(0, 30)"
      ]
     },
     "execution_count": 173,
     "metadata": {},
     "output_type": "execute_result"
    },
    {
     "data": {
      "image/png": "[encoded data removed]",
      "text/plain": [
       "<Figure size 432x288 with 1 Axes>"
      ]
     },
     "metadata": {
      "needs_background": "light"
     },
     "output_type": "display_data"
    }
   ],
   "source": [
    "top_unit.plot.bar()\n",
    "plt.xlim([0,30])\n"
   ]
  },
  {
   "cell_type": "markdown",
   "metadata": {},
   "source": [
    "ploting a bar graph of the most deaths from least "
   ]
  },
  {
   "cell_type": "code",
   "execution_count": 174,
   "metadata": {},
   "outputs": [
    {
     "data": {
      "text/plain": [
       "(31, 60)"
      ]
     },
     "execution_count": 174,
     "metadata": {},
     "output_type": "execute_result"
    },
    {
     "data": {
      "image/png": "[encoded data removed]",
      "text/plain": [
       "<Figure size 432x288 with 1 Axes>"
      ]
     },
     "metadata": {
      "needs_background": "light"
     },
     "output_type": "display_data"
    }
   ],
   "source": [
    "top_unit.plot.bar()\n",
    "plt.xlim([31,60])"
   ]
  },
  {
   "cell_type": "markdown",
   "metadata": {},
   "source": [
    "FDNY Rescue 1 is number one of the list and it shoud make sense they are located at 530 W 43rd St, New York, NY 10036 and one of the first responders to 911 and they lost half theyre unit during the attack"
   ]
  },
  {
   "cell_type": "markdown",
   "metadata": {},
   "source": [
    "this is us sorting the data of how many death each rank of fighterfighter has"
   ]
  },
  {
   "cell_type": "code",
   "execution_count": 175,
   "metadata": {},
   "outputs": [],
   "source": [
    "rank1=fire['Rank'].value_counts().sort_index()"
   ]
  },
  {
   "cell_type": "markdown",
   "metadata": {},
   "source": [
    "ploting a barh graph to compare that data "
   ]
  },
  {
   "cell_type": "code",
   "execution_count": 176,
   "metadata": {},
   "outputs": [
    {
     "data": {
      "text/plain": [
       "(0, 500)"
      ]
     },
     "execution_count": 176,
     "metadata": {},
     "output_type": "execute_result"
    },
    {
     "data": {
      "image/png": "[encoded data removed]",
      "text/plain": [
       "<Figure size 432x288 with 1 Axes>"
      ]
     },
     "metadata": {
      "needs_background": "light"
     },
     "output_type": "display_data"
    }
   ],
   "source": [
    "rank1.plot.barh()\n",
    "plt.xlim(0,500)"
   ]
  },
  {
   "cell_type": "markdown",
   "metadata": {},
   "source": [
    "how many capatin died in the data"
   ]
  },
  {
   "cell_type": "code",
   "execution_count": 177,
   "metadata": {},
   "outputs": [],
   "source": [
    "captain=fire['Rank']=='CAPTAIN'"
   ]
  },
  {
   "cell_type": "code",
   "execution_count": 178,
   "metadata": {},
   "outputs": [
    {
     "data": {
      "text/plain": [
       "77"
      ]
     },
     "execution_count": 178,
     "metadata": {},
     "output_type": "execute_result"
    }
   ],
   "source": [
    "captain.sum()"
   ]
  },
  {
   "cell_type": "markdown",
   "metadata": {},
   "source": [
    "how many firefighters died in the data"
   ]
  },
  {
   "cell_type": "code",
   "execution_count": 179,
   "metadata": {},
   "outputs": [],
   "source": [
    "ff=fire['Rank']=='FIREFIGHTER'"
   ]
  },
  {
   "cell_type": "code",
   "execution_count": 180,
   "metadata": {},
   "outputs": [
    {
     "data": {
      "text/plain": [
       "820"
      ]
     },
     "execution_count": 180,
     "metadata": {},
     "output_type": "execute_result"
    }
   ],
   "source": [
    "ff.sum()\n"
   ]
  },
  {
   "cell_type": "code",
   "execution_count": 213,
   "metadata": {},
   "outputs": [],
   "source": [
    "d=fire['Date'].value_counts()"
   ]
  },
  {
   "cell_type": "code",
   "execution_count": 218,
   "metadata": {},
   "outputs": [
    {
     "data": {
      "text/plain": [
       "(0, 6)"
      ]
     },
     "execution_count": 218,
     "metadata": {},
     "output_type": "execute_result"
    },
    {
     "data": {
      "image/png": "[encoded data removed]",
      "text/plain": [
       "<Figure size 432x288 with 1 Axes>"
      ]
     },
     "metadata": {
      "needs_background": "light"
     },
     "output_type": "display_data"
    }
   ],
   "source": [
    "d.plot.bar()\n",
    "plt.xlim([0,6])\n"
   ]
  },
  {
   "cell_type": "markdown",
   "metadata": {},
   "source": [
    "this is a bar graph of which day outta the week most deaths occured. Tuesday is the outlier here due to it being a tuesday on september 11, the next following day would be wednesday. "
   ]
  },
  {
   "cell_type": "code",
   "execution_count": 221,
   "metadata": {},
   "outputs": [
    {
     "data": {
      "text/plain": [
       "JOHN J. FINLEY         2\n",
       "MICHAEL LYNCH          2\n",
       "PATRICK O'KEEFE        2\n",
       "MICHAEL ROBERTS        2\n",
       "JOHN J. SCHOPPMEYER    1\n",
       "                      ..\n",
       "JOHN DEGNAN            1\n",
       "WILLIAM CARLOCK        1\n",
       "CARL BEDIGIAN          1\n",
       "LEO J. J. RAY          1\n",
       "JOHN V. STORCH JR.,    1\n",
       "Name: Name, Length: 1165, dtype: int64"
      ]
     },
     "execution_count": 221,
     "metadata": {},
     "output_type": "execute_result"
    }
   ],
   "source": [
    "fire['Name'].value_counts()"
   ]
  },
  {
   "cell_type": "markdown",
   "metadata": {},
   "source": [
    "In, “FDNY - line of duty deaths” open data has five columns about rank , name , unit , date and year as well as 1169 rows. In the outlier , we can see the deaths range from year 1880 to 2020 and we can see a tremendous deaths jump in 2001. Also there is a steady up and down in from 1880 to 1980. The graph also shows the average of the top unit which is 2.9594.\n",
    "The graph briefly shows, what level of fire fighter has most deaths. The Rescue 1 firefighters , ladder 3 , ladder 7 faces most death. Moreover , position like Engine 48 and Engine 18 faces less death in the unit. FDNY Rescue 1 is number one of the list and it should make sense they are located at 530 W 43rd St, New York, NY 10036 and one of the first responders to 911 and they lost half their unit during the attack. We have showed the data of how many death each rank of the firefighter has. Lieutenant , Engineer , deputy chief , fire marshal , captain , battalion chief  face less than the actual firefighters. With the help of data we were able to find out that about 820 firefighters faced death during their duty.\n"
   ]
  }
 ],
 "metadata": {
  "kernelspec": {
   "display_name": "Python 3",
   "language": "python",
   "name": "python3"
  },
  "language_info": {
   "codemirror_mode": {
    "name": "ipython",
    "version": 3
   },
   "file_extension": ".py",
   "mimetype": "text/x-python",
   "name": "python",
   "nbconvert_exporter": "python",
   "pygments_lexer": "ipython3",
   "version": "3.7.4"
  }
 },
 "nbformat": 4,
 "nbformat_minor": 2
}
